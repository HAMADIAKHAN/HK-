{
  "cells": [
    {
      "cell_type": "markdown",
      "metadata": {
        "id": "wo_L0C0ezfIe"
      },
      "source": [
        "# Assignment 1"
      ]
    },
    {
      "cell_type": "markdown",
      "metadata": {
        "id": "WCuWG6Y_zfIh"
      },
      "source": [
        "**Note:** You need to run each cell where we have provided you some pre-defined variables for tasks"
      ]
    },
    {
      "cell_type": "markdown",
      "metadata": {
        "id": "3yJ6NBq3zfIh"
      },
      "source": [
        "### Task 1 (Done)"
      ]
    },
    {
      "cell_type": "markdown",
      "metadata": {
        "id": "MfDp3LnazfIh"
      },
      "source": [
        "Use **for** loop to create **list** like this: <mark>['w','o','r','d']</mark> and save it in <mark>my_list</mark>\n",
        "\n",
        "Hint: use append method"
      ]
    },
    {
      "cell_type": "code",
      "execution_count": null,
      "metadata": {
        "id": "UfVwe7v9zfIh"
      },
      "outputs": [],
      "source": [
        "#write code here\n",
        "\n",
        "\n",
        ""
      ]
    },
    {
      "cell_type": "code",
      "execution_count": null,
      "metadata": {
        "id": "5Q5edkdmzfIi"
      },
      "outputs": [],
      "source": [
        "# print my_list\n"
      ]
    },
    {
      "cell_type": "markdown",
      "metadata": {
        "id": "t3spdXSZzfIj"
      },
      "source": [
        "### Task 2 (Done)"
      ]
    },
    {
      "cell_type": "markdown",
      "metadata": {
        "id": "jsQH3DyJzfIk"
      },
      "source": [
        "Write markdown code to embed a website link inside text: <mark>Jupyter Markdown Cheat Sheet</mark>.\n",
        "\n",
        "Website link is: https://medium.com/ibm-data-science-experience/markdown-for-jupyter-notebooks-cheatsheet-386c05aeebed"
      ]
    },
    {
      "cell_type": "markdown",
      "metadata": {
        "id": "0rapZBtGzfIk"
      },
      "source": [
        "Hint: Just like we have embeded link here [Here](https://i.pinimg.com/originals/b8/bf/86/b8bf8658dd216b2ec14a1b9a27123f20.gif)"
      ]
    },
    {
      "cell_type": "markdown",
      "metadata": {
        "id": "H3C3nFhHzfIk"
      },
      "source": [
        "### write markdown code here and convert this cell to markdown before running\n",
        "# Website link is:\n",
        "[Jupyter Markdown Cheat Sheet](https://medium.com/ibm-data-science-experience/markdown-for-jupyter-notebooks-cheatsheet-386c05aeebed)\n",
        "\n"
      ]
    },
    {
      "cell_type": "markdown",
      "metadata": {
        "id": "5QgSydNrzfIl"
      },
      "source": [
        "### Task 3 (Done)"
      ]
    },
    {
      "cell_type": "markdown",
      "metadata": {
        "id": "k9pYEip3zfIl"
      },
      "source": [
        "Find maximum and minimum value from given list <mark>my_list1</mark>"
      ]
    },
    {
      "cell_type": "markdown",
      "metadata": {
        "id": "ipq5_UNQzfIl"
      },
      "source": [
        "Hint: Check control flow notebook"
      ]
    },
    {
      "cell_type": "code",
      "execution_count": null,
      "metadata": {
        "id": "TSLupbK2zfIl"
      },
      "outputs": [],
      "source": [
        "my_list1=[23,3456,67,6,34,87,1224,7689,22,675,809,323,779]"
      ]
    },
    {
      "cell_type": "code",
      "execution_count": null,
      "metadata": {
        "id": "YEM6tQIKzfIm"
      },
      "outputs": [],
      "source": [
        "# write code here\n"
      ]
    },
    {
      "cell_type": "code",
      "execution_count": null,
      "metadata": {
        "id": "xCK17WVgzfIm"
      },
      "outputs": [],
      "source": [
        "# write code here\n"
      ]
    },
    {
      "cell_type": "markdown",
      "metadata": {
        "id": "QRMGo5z4zfIm"
      },
      "source": [
        "### Task 4 (Done)"
      ]
    },
    {
      "cell_type": "markdown",
      "metadata": {
        "id": "eRYj3bp0zfIm"
      },
      "source": [
        "Write code to check if input number is greater than, less than or equal to 50. Loop should be continuous and command of **exit** should end the infinite while loop"
      ]
    },
    {
      "cell_type": "markdown",
      "metadata": {
        "id": "oWLPUIl7zfIm"
      },
      "source": [
        "Hint: you need to used input() fucntion and cast the value to 'int' for conditions but don't cast when 'exit'."
      ]
    },
    {
      "cell_type": "code",
      "execution_count": null,
      "metadata": {
        "id": "imy_hepWzfIm"
      },
      "outputs": [],
      "source": [
        "# write code here\n",
        ""
      ]
    },
    {
      "cell_type": "markdown",
      "metadata": {
        "id": "ElwwycBLzfIn"
      },
      "source": [
        "### Task 5 (Done)"
      ]
    },
    {
      "cell_type": "markdown",
      "metadata": {
        "id": "7ClfxiUfzfIn"
      },
      "source": [
        "Create dictionary named <mark>europs</mark> from provided lists: <mark>countries</mark> and <mark>capitals</mark> using **for** loop"
      ]
    },
    {
      "cell_type": "markdown",
      "metadata": {
        "id": "ZEmjGUeZzfIn"
      },
      "source": [
        "Hint: using enumerate() function with for loop"
      ]
    },
    {
      "cell_type": "code",
      "execution_count": null,
      "metadata": {
        "id": "mx9VZ9nJzfIn"
      },
      "outputs": [],
      "source": [
        "# Definition of countries and capital\n",
        "countries = ['spain', 'france', 'germany', 'norway']\n",
        "capitals = ['madrid', 'paris', 'berlin', 'oslo']"
      ]
    },
    {
      "cell_type": "code",
      "execution_count": null,
      "metadata": {
        "id": "YDhAEBU8zfIn"
      },
      "outputs": [],
      "source": [
        "# write code here\n"
      ]
    },
    {
      "cell_type": "code",
      "execution_count": null,
      "metadata": {
        "id": "ILHwDZFwzfIn"
      },
      "outputs": [],
      "source": [
        "# print europe\n"
      ]
    },
    {
      "cell_type": "markdown",
      "metadata": {
        "id": "7CU8MhBazfIn"
      },
      "source": [
        "### Task 6 (Done)"
      ]
    },
    {
      "cell_type": "markdown",
      "metadata": {
        "id": "VPlJofGVzfIn"
      },
      "source": [
        "Use markdown code to print image on below website link here inside Jupyter notebook markdown.\n",
        "\n",
        "Web link: https://i.pinimg.com/originals/b8/bf/86/b8bf8658dd216b2ec14a1b9a27123f20.gif"
      ]
    },
    {
      "cell_type": "markdown",
      "metadata": {
        "id": "zkhyVrblzfIo"
      },
      "source": [
        "Hint: [here](https://medium.com/ibm-data-science-experience/markdown-for-jupyter-notebooks-cheatsheet-386c05aeebed)"
      ]
    },
    {
      "cell_type": "markdown",
      "metadata": {
        "id": "YwfdlXGNzfIo"
      },
      "source": [
        "### write markdown code here and convert this cell to markdown before running\n"
      ]
    },
    {
      "cell_type": "markdown",
      "metadata": {
        "id": "7foh9Z6YzfIo"
      },
      "source": [
        "### Task 7 (Done)"
      ]
    },
    {
      "cell_type": "markdown",
      "metadata": {
        "id": "omkuTlFnzfIo"
      },
      "source": [
        "Convert object types of values in below mentioned defined dictionary. Check comments for required task."
      ]
    },
    {
      "cell_type": "markdown",
      "metadata": {
        "id": "ni7FbtYuzfIo"
      },
      "source": [
        "Hint: Expected final out of dictionary should be:\n",
        "```python\n",
        "{'animal':['Dog','Cat'],'age':[4.0,5.0],'bark':[1,0],'badge_num':[234,896]}\n",
        "```"
      ]
    },
    {
      "cell_type": "code",
      "execution_count": null,
      "metadata": {
        "id": "rOCM9Ci4zfIo"
      },
      "outputs": [],
      "source": [
        "# cast 'age' to float\n"
      ]
    },
    {
      "cell_type": "code",
      "execution_count": null,
      "metadata": {
        "id": "vEYWJ5g7zfIo"
      },
      "outputs": [],
      "source": [
        "# cast 'bark' to int\n"
      ]
    },
    {
      "cell_type": "code",
      "execution_count": null,
      "metadata": {
        "id": "gssN9_B_zfIo"
      },
      "outputs": [],
      "source": [
        "# cast 'badge_num' to int\n",
        "\n"
      ]
    },
    {
      "cell_type": "code",
      "execution_count": null,
      "metadata": {
        "id": "DJHdLjQTzfIo"
      },
      "outputs": [],
      "source": [
        "# print my_dict\n"
      ]
    },
    {
      "cell_type": "markdown",
      "metadata": {
        "id": "PEXkFX3BzfIo"
      },
      "source": [
        "### Task 8 (Done)"
      ]
    },
    {
      "cell_type": "markdown",
      "metadata": {
        "id": "15VfMr_IzfIo"
      },
      "source": [
        "You can write mathematical equations in Jupyter markdown. These are also called LaTex equations. Write below mentioned LaTex equation in markdown.\n",
        "<img src=https://encrypted-tbn0.gstatic.com/images?q=tbn:ANd9GcT342MebkyWTnyT3TCSGUN0XE3oml18wrd20OOR2elcElqYHpfs />"
      ]
    },
    {
      "cell_type": "markdown",
      "metadata": {
        "id": "tlkUxU1jzfIo"
      },
      "source": [
        "Hint: [Here](https://stackoverflow.com/questions/13208286/how-to-write-latex-in-ipython-notebook)"
      ]
    },
    {
      "cell_type": "markdown",
      "metadata": {
        "id": "uuJLVhcWzfIo"
      },
      "source": [
        "\n",
        "### write markdown code here and convert this cell to markdown before running\n",
        "\n",
        "$ c = \\sqrt {a^2 + b^2} $\n",
        "\n"
      ]
    },
    {
      "cell_type": "markdown",
      "metadata": {
        "id": "77bQ3HoWzfIp"
      },
      "source": [
        "### Task 9 (Done)\n",
        "\n"
      ]
    },
    {
      "cell_type": "markdown",
      "metadata": {
        "id": "YtwsJV7PzfIp"
      },
      "source": [
        "Write any python code in markdown such that when it runs, the markdown should look like a python code. This is called Github flavored markdown"
      ]
    },
    {
      "cell_type": "markdown",
      "metadata": {
        "id": "al9j7TxxzfIp"
      },
      "source": [
        "Hint: [Here](https://jupyter-notebook.readthedocs.io/en/stable/examples/Notebook/Working%20With%20Markdown%20Cells.html)"
      ]
    },
    {
      "cell_type": "markdown",
      "metadata": {
        "id": "bZkXt-fYzfIp"
      },
      "source": [
        "### write markdown code here and convert this cell to markdown before running\n",
        "\n",
        "```python\n",
        "def cube(x):\n",
        "    \"\"\"a docstring\"\"\"\n",
        "    return x**3\n",
        "```\n"
      ]
    },
    {
      "cell_type": "markdown",
      "metadata": {
        "id": "zjxxShDdzfIp"
      },
      "source": [
        "### Task 10 (Done)\n"
      ]
    },
    {
      "cell_type": "markdown",
      "metadata": {
        "id": "AjKYiGH6zfIp"
      },
      "source": [
        "Create a method that that takes a list of numbers as input and return power of 4 of each value in the list     \n",
        "E.g List = [2,3,5] and output should be like [16,81,625]"
      ]
    },
    {
      "cell_type": "code",
      "execution_count": null,
      "metadata": {
        "id": "SKCfTNLnzfIp"
      },
      "outputs": [],
      "source": [
        "#write code here\n"
      ]
    },
    {
      "cell_type": "code",
      "execution_count": null,
      "metadata": {
        "id": "c5bAZNDqzfIp"
      },
      "outputs": [],
      "source": [
        "#write code here\n",
        "\n",
        "\n"
      ]
    },
    {
      "cell_type": "code",
      "execution_count": null,
      "metadata": {
        "id": "Nf5i6kLNzfIp"
      },
      "outputs": [],
      "source": [
        "#write code here\n",
        "\n"
      ]
    },
    {
      "cell_type": "markdown",
      "metadata": {
        "id": "T-8cD4wtzfIp"
      },
      "source": [
        "Do same this above task through mapping and lambda instead of function"
      ]
    },
    {
      "cell_type": "code",
      "execution_count": null,
      "metadata": {
        "id": "dSN2SlTozfIp"
      },
      "outputs": [],
      "source": [
        "#write code here\n",
        "\n"
      ]
    },
    {
      "cell_type": "markdown",
      "metadata": {
        "id": "zcAhrJdYzfIp"
      },
      "source": [
        "<center>Good Luck !</center>"
      ]
    }
  ],
  "metadata": {
    "kernelspec": {
      "display_name": "Python 3",
      "language": "python",
      "name": "python3"
    },
    "colab": {
      "provenance": []
    }
  },
  "nbformat": 4,
  "nbformat_minor": 0
}